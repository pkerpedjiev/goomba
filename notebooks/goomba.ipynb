{
 "cells": [
  {
   "cell_type": "code",
   "execution_count": 1,
   "metadata": {
    "collapsed": false
   },
   "outputs": [
    {
     "name": "stdout",
     "output_type": "stream",
     "text": [
      "Populating the interactive namespace from numpy and matplotlib\n"
     ]
    }
   ],
   "source": [
    "%load_ext autoreload\n",
    "%autoreload 2\n",
    "%pylab inline\n",
    "\n",
    "import os.path as op\n",
    "import findspark\n",
    "import os\n",
    "findspark.init()\n",
    "\n",
    "import pyspark\n",
    "sc = pyspark.SparkContext()"
   ]
  },
  {
   "cell_type": "code",
   "execution_count": 2,
   "metadata": {
    "collapsed": false
   },
   "outputs": [
    {
     "data": {
      "text/plain": [
       "'xgmYXZ6ybNvyBZhm4ohRqU'"
      ]
     },
     "execution_count": 2,
     "metadata": {},
     "output_type": "execute_result"
    }
   ],
   "source": [
    "import shortuuid\n",
    "shortuuid.uuid()"
   ]
  },
  {
   "cell_type": "markdown",
   "metadata": {},
   "source": [
    "## Utility functions"
   ]
  },
  {
   "cell_type": "code",
   "execution_count": 3,
   "metadata": {
    "collapsed": false
   },
   "outputs": [],
   "source": [
    "assembly = 'mm9'"
   ]
  },
  {
   "cell_type": "code",
   "execution_count": 10,
   "metadata": {
    "collapsed": false
   },
   "outputs": [],
   "source": [
    "data_dir = op.expanduser(\"~/data\")\n",
    "output_dir = op.join(data_dir, assembly)   # where all of the intermediate output will be stored\n",
    "base_ucsc_dir = op.join(data_dir, 'ucsc-data/{}'.format(assembly))  # where all of the files downloaded from UCSC will be stored\n",
    "\n",
    "import shutil\n",
    "\n",
    "# create a directory to store intermediate output files\n",
    "def get_outfile(table_name):\n",
    "    outfile = op.join(output_dir, 'genbank-output/{}'.format(table_name))\n",
    "    if op.exists(outfile):\n",
    "        shutil.rmtree(outfile)\n",
    "    return outfile"
   ]
  },
  {
   "cell_type": "markdown",
   "metadata": {},
   "source": [
    "## Load the chromosome lengths"
   ]
  },
  {
   "cell_type": "code",
   "execution_count": 11,
   "metadata": {
    "collapsed": false
   },
   "outputs": [
    {
     "name": "stdout",
     "output_type": "stream",
     "text": [
      "0 197195432 545593815\n"
     ]
    }
   ],
   "source": [
    "def get_chrom_lengths(base_dir):\n",
    "    '''\n",
    "    Get the cumulative start positions for the chromosomes in an assembly. The chromosomes\n",
    "    will be sorted alphabetically by their names.\n",
    "    \n",
    "    :param base_dir: A directory containing meta data about a genome assembly\n",
    "    :return: A dictionary of the from { 'chr2': 234323432 }, showing at which position\n",
    "             chromosomes start.\n",
    "    '''\n",
    "    chromLengths = (sc.textFile(op.join(base_dir, 'chromInfo.txt.gz'))\n",
    "                    .map(lambda x: x.split('\\t'))\n",
    "                    .map(lambda x: {'chrom': x[0], 'length': int(x[1]) })\n",
    "                    .collect())\n",
    "    \n",
    "    cum_chrom_lengths = {}\n",
    "    curr_cum_lengths = 0\n",
    "    \n",
    "    for x in sorted(chromLengths, key=lambda x: -x['length']):\n",
    "        cum_chrom_lengths[x['chrom']] = curr_cum_lengths\n",
    "        curr_cum_lengths += x['length']\n",
    "        \n",
    "    return cum_chrom_lengths\n",
    "\n",
    "cum_chrom_lengths = get_chrom_lengths(base_ucsc_dir)\n",
    "\n",
    "print cum_chrom_lengths['chr1'], cum_chrom_lengths['chr2'], cum_chrom_lengths['chr3']"
   ]
  },
  {
   "cell_type": "markdown",
   "metadata": {},
   "source": [
    "## Loading the refgene data"
   ]
  },
  {
   "cell_type": "code",
   "execution_count": 12,
   "metadata": {
    "collapsed": false
   },
   "outputs": [
    {
     "name": "stdout",
     "output_type": "stream",
     "text": [
      "[{'exonEnds': u'3207049,3411982,3661579', 'geneName': u'Xkr4', 'chromOffset': 0, 'name': u'NM_001011874', 'txStart': u'3204562', 'exonCount': u'3', 'strand': u'-', 'cdsEnd': u'3661429', 'genomeTxStart': 3204562, 'geneLength': 457017, 'cdsStart': u'3206102', 'chrom': u'chr1', 'genomeTxEnd': 3661579, 'txEnd': u'3661579', 'exonStarts': u'3204562,3411782,3660632'}]\n"
     ]
    }
   ],
   "source": [
    "from pyspark import SparkContext, SparkConf\n",
    "\n",
    "\n",
    "def parse_exon_positions(exon_positions_str):\n",
    "    return map(int, exon_positions_str.strip(\",\").split(','))\n",
    "\n",
    "def load_refgene_data(base_dir):\n",
    "    '''\n",
    "    Load the UCSC refgene data for a particular assembly.\n",
    "    \n",
    "    :param base_dir: The directory which contains the refGene.txt.gz file.\n",
    "    '''\n",
    "    refGene = (sc.textFile(op.join(base_dir, 'refGene.txt.gz'))\n",
    "               .map(lambda x: x.split('\\t'))\n",
    "               .map(lambda x: {'name': x[1],\n",
    "                               'chrom': x[2],\n",
    "                               'strand': x[3],\n",
    "                               'txStart': x[4],\n",
    "                               'txEnd': x[5],\n",
    "                               'cdsStart': x[6],\n",
    "                               'cdsEnd': x[7],\n",
    "                               'exonCount': x[8],\n",
    "                               'exonStarts': x[9].strip(','),\n",
    "                               'exonEnds': x[10].strip(','),\n",
    "                               'chromOffset': cum_chrom_lengths[x[2]],\n",
    "                               'genomeTxStart': cum_chrom_lengths[x[2]] + int(x[4]),\n",
    "                               'genomeTxEnd': cum_chrom_lengths[x[2]] + int(x[5]),\n",
    "                               'geneName': x[12],\n",
    "                               'geneLength': int(x[5]) - int(x[4]),\n",
    "                               })\n",
    "               .filter(lambda x: x['chrom'].find('_') == -1)\n",
    "            )\n",
    "    \n",
    "    return refGene\n",
    "\n",
    "refGene = load_refgene_data(base_ucsc_dir)\n",
    "### add the genomic position\n",
    "print refGene.take(1)"
   ]
  },
  {
   "cell_type": "markdown",
   "metadata": {},
   "source": []
  },
  {
   "cell_type": "markdown",
   "metadata": {},
   "source": [
    "## Count the references\n",
    "\n",
    "For this exercise, the result should be a tsv with the following columns:\n",
    "\n",
    "```\n",
    "<taxId> <geneId> <refSeqID> <citation count>\n",
    "```"
   ]
  },
  {
   "cell_type": "code",
   "execution_count": 13,
   "metadata": {
    "collapsed": false
   },
   "outputs": [
    {
     "name": "stdout",
     "output_type": "stream",
     "text": [
      "[((9, 1246500), {'count': 1})]\n",
      "[((6279, 6095747), {'count': 1})]\n"
     ]
    }
   ],
   "source": [
    "def load_gene_counts(genbank_dir):\n",
    "    gene2pubmed = (sc.textFile(op.join(genbank_dir, \"gene2pubmed\"))\n",
    "                     .filter(lambda x: x[0] != '#')\n",
    "                     .map(lambda x: x.split('\\t'))\n",
    "                     .map(lambda p: {'taxid': int(p[0]), 'geneid': int(p[1]), 'pmid': int(p[2]), 'count': 1})\n",
    "                     .map(lambda x: ((x['taxid'], x['geneid']), {'count': x['count']}))\n",
    "                     )\n",
    "    \n",
    "    def reduce_count(r1, r2):\n",
    "        '''\n",
    "        A reduce function that simply counts the number of elements in the table.\n",
    "        \n",
    "        @param r1: A Row\n",
    "        @param r2: A Row\n",
    "        @return: A new Row, equal to the first Row with a summed count.\n",
    "        '''\n",
    "        #print >>sys.stderr, \"r1:\", r1\n",
    "        r1['count'] += r2['count']\n",
    "        return r1\n",
    "\n",
    "    print gene2pubmed.take(1)\n",
    "    reduced_gene2pubmed = gene2pubmed.reduceByKey(reduce_count)\n",
    "    \n",
    "    outfile = get_outfile('taxid-geneid-count')\n",
    "\n",
    "    (reduced_gene2pubmed\n",
    "        .map(lambda x: \"{}\\t{}\\t{}\".format(x[0][0], x[0][1], x[1]['count']))\n",
    "        .saveAsTextFile(outfile)\n",
    "        )\n",
    "    \n",
    "    return reduced_gene2pubmed\n",
    "\n",
    "\n",
    "taxid_geneid_count = load_gene_counts(op.join(data_dir, 'genbank-data/'))\n",
    "print taxid_geneid_count.take(1)"
   ]
  },
  {
   "cell_type": "markdown",
   "metadata": {},
   "source": [
    "## Load the gene2refseq annotations"
   ]
  },
  {
   "cell_type": "code",
   "execution_count": 14,
   "metadata": {
    "collapsed": false
   },
   "outputs": [
    {
     "name": "stdout",
     "output_type": "stream",
     "text": [
      "[(u'-', (9, 1246500)), (u'-', (9, 1246501)), (u'-', (9, 1246502)), (u'-', (9, 1246503)), (u'-', (9, 1246504)), (u'-', (9, 1246505)), (u'-', (9, 1246509)), (u'-', (9, 1246510)), (u'-', (9, 3722426)), (u'-', (9, 8655732))]\n",
      "[(u'XM_009054708', (225164, 20243866))]\n"
     ]
    }
   ],
   "source": [
    "def take_one(r1, r2):\n",
    "    return r1\n",
    "\n",
    "def load_refseq2gene(genbank_base_dir):\n",
    "    '''\n",
    "    Get the mapping from refseq IDs to gene IDs\n",
    "    \n",
    "    :param genbank_base_dir: The directory that contains all of the genbank files.\n",
    "    :return: A set of tuples of the form (refseq_id, (taxid, geneid))\n",
    "    '''\n",
    "    gene2refseq = (sc.textFile(op.join(genbank_base_dir, 'gene2refseq'))\n",
    "                   .filter(lambda x: x[0] != '#')\n",
    "                   .map(lambda x: x.split('\\t'))\n",
    "                   .map(lambda p: {'taxid': int(p[0]), 'geneid': int(p[1]), 'refseqid': p[3] })\n",
    "                   .map(lambda x: (x['refseqid'].split('.')[0], (x['taxid'], x['geneid'])))\n",
    "                   )\n",
    "    \n",
    "    def reduce_by_refseq_id(r1, r2):\n",
    "        # because we're just looking for a mapping from geneId to refseqId, we just need to throw\n",
    "        # away single entries with identical refseq ids\n",
    "        return r1\n",
    "    \n",
    "    print gene2refseq.take(10)\n",
    "    refseq2gene = gene2refseq.reduceByKey(take_one)\n",
    "    print refseq2gene.take(1)\n",
    "    \n",
    "    outfile = get_outfile('refseqid-taxid-geneid')\n",
    "\n",
    "    (refseq2gene.map(lambda x: \"{}\\t{}\\t{}\".format(x[0], x[1][0], x[1][1]))\n",
    "         .saveAsTextFile(outfile)\n",
    "    )\n",
    "    return refseq2gene\n",
    "\n",
    "refseqid_taxid_geneid = load_refseq2gene(op.join(data_dir, 'genbank-data'))"
   ]
  },
  {
   "cell_type": "markdown",
   "metadata": {},
   "source": [
    "## Join the reference counts and refseq to geneid translations"
   ]
  },
  {
   "cell_type": "code",
   "execution_count": 15,
   "metadata": {
    "collapsed": false
   },
   "outputs": [
    {
     "name": "stdout",
     "output_type": "stream",
     "text": [
      "[(u'XM_009054708', (225164, 20243866))]\n"
     ]
    }
   ],
   "source": [
    "print refseqid_taxid_geneid.take(1)\n",
    "\n",
    "def take_one(r1, r2):\n",
    "    return r1\n",
    "\n",
    "def take_max(r1, r2):\n",
    "    if r1 > r2:\n",
    "        return r1\n",
    "    else:\n",
    "        return r2"
   ]
  },
  {
   "cell_type": "code",
   "execution_count": 16,
   "metadata": {
    "collapsed": false
   },
   "outputs": [
    {
     "name": "stdout",
     "output_type": "stream",
     "text": [
      "count1: 9519075\n",
      "count2: 7364241\n",
      "[((4577, 103654904), u'XR_566429')]\n",
      "taxid_geneid_count [((6279, 6095747), {'count': 1})]\n",
      "1. taxid_geneid_count.count(): 8516870\n",
      "2. taxid_geneid_count.count(): 8516870\n",
      "[((6279, 6095747), ({'count': 1}, u'XM_001892259'))]\n",
      "[((880591, 9871835), {'count': 1})]\n"
     ]
    }
   ],
   "source": [
    "def join_counts_and_ids(refseqid_taxid_geneid, taxid_geneid_count):\n",
    "    taxid_geneid_refseq = refseqid_taxid_geneid.map(lambda x: (x[1], x[0]))\n",
    "    print \"count1:\", taxid_geneid_refseq.count()\n",
    "    taxid_geneid_refseq = taxid_geneid_refseq.reduceByKey(take_one)\n",
    "    print \"count2:\", taxid_geneid_refseq.count()\n",
    "    \n",
    "    \n",
    "    '''    \n",
    "    taxid_geneid_refseq = (sc.textFile(op.join(output_dir, 'genbank-output/refseqid-taxid-geneid'))\n",
    "                   .map(lambda x: x.split())\n",
    "                   .map(lambda x: ((int(x[1]), int(x[2])), x[0]))\n",
    "                        )\n",
    "    '''\n",
    "    print taxid_geneid_refseq.take(1)\n",
    "    \n",
    "    '''\n",
    "    (sc.textFile(op.join(output_dir, 'genbank-output/taxid-geneid-count'))\n",
    "                          .map(lambda x: x.split())\n",
    "                          .map(lambda x: ((int(x[0]), int(x[1])), int(x[2])))\n",
    "                          )\n",
    "    '''\n",
    "    print \"taxid_geneid_count\", taxid_geneid_count.take(1)\n",
    "    print \"1. taxid_geneid_count.count():\", taxid_geneid_count.count()\n",
    "    taxid_geneid_count = taxid_geneid_count.reduceByKey(take_max)\n",
    "    print \"2. taxid_geneid_count.count():\", taxid_geneid_count.count()\n",
    "    \n",
    "    taxid_geneid_count_refseq = taxid_geneid_count.join(taxid_geneid_refseq)\n",
    "    print taxid_geneid_count_refseq.take(1)\n",
    "    print taxid_geneid_count.take(1)\n",
    "    \n",
    "    outfile = get_outfile('taxid-geneid-refseqid-count')\n",
    "\n",
    "    (taxid_geneid_count_refseq.map(lambda x: \"{}\\t{}\\t{}\\t{}\".format(x[0][0],\n",
    "                                                                  x[0][1],\n",
    "                                                                  x[1][1],\n",
    "                                                                  x[1][0]))\n",
    "     .saveAsTextFile(outfile)\n",
    "     )\n",
    "    return taxid_geneid_count_refseq\n",
    "\n",
    "taxid_geneid_count_refseq = join_counts_and_ids(refseqid_taxid_geneid, taxid_geneid_count)"
   ]
  },
  {
   "cell_type": "markdown",
   "metadata": {},
   "source": [
    "## Join the refgene data with the count data"
   ]
  },
  {
   "cell_type": "code",
   "execution_count": 17,
   "metadata": {
    "collapsed": false
   },
   "outputs": [
    {
     "name": "stdout",
     "output_type": "stream",
     "text": [
      "[(u'NM_001011874', {'exonEnds': u'3207049,3411982,3661579', 'geneName': u'Xkr4', 'chromOffset': 0, 'name': u'NM_001011874', 'txStart': u'3204562', 'exonCount': u'3', 'strand': u'-', 'cdsEnd': u'3661429', 'genomeTxStart': 3204562, 'geneLength': 457017, 'cdsStart': u'3206102', 'chrom': u'chr1', 'genomeTxEnd': 3661579, 'txEnd': u'3661579', 'exonStarts': u'3204562,3411782,3660632'})]\n",
      "[(u'XM_001892259', {'count': 1})]\n",
      "[(u'NM_001113367', ({'exonEnds': u'55357029,55361470,55362567,55380565,55397444,55403296,55405779,55412583,55417603,55419551', 'geneName': u'Boll', 'chromOffset': 0, 'name': u'NM_001113367', 'txStart': u'55356912', 'exonCount': u'10', 'strand': u'-', 'cdsEnd': u'55397433', 'genomeTxStart': 55356912, 'exonStarts': u'55356912,55361341,55362519,55380493,55397316,55403220,55405724,55412491,55417459,55419325', 'cdsStart': u'55356912', 'chrom': u'chr1', 'genomeTxEnd': 55419551, 'txEnd': u'55419551', 'geneLength': 62639}, {'count': 12}))]\n"
     ]
    }
   ],
   "source": [
    "def join_refgene_and_counts(refGene, taxid_geneid_count_refseq):\n",
    "    '''\n",
    "    Combine the refGene information about the genes with the citation\n",
    "    count information.\n",
    "    '''\n",
    "    refseqid_refgene = refGene.map(lambda x: (x['name'], x))\n",
    "    \n",
    "    print refseqid_refgene.take(1)\n",
    "    \n",
    "    refseqid_count = taxid_geneid_count_refseq.map(lambda x: (x[1][1], x[1][0]))\n",
    "    \n",
    "    print refseqid_count.take(1)\n",
    "    \n",
    "    refseqid_refgene_count = refseqid_refgene.join(refseqid_count)\n",
    "\n",
    "    print refseqid_refgene_count.take(1)\n",
    "    \n",
    "\n",
    "    return refseqid_refgene_count\n",
    "\n",
    "refseqid_refgene_count = join_refgene_and_counts(refGene, taxid_geneid_count_refseq)\n",
    "\n",
    "outfile = get_outfile('refgene-count')\n",
    "(refseqid_refgene_count.map(lambda x: \"{name}\\t{chrom}\\t{strand}\\t{txStart}\\t{txEnd}\\t{genomeTxStart}\\t{genomeTxEnd}\\t{cdsStart}\\t{cdsEnd}\\t{exonCount}\\t{exonStarts}\\t{exonEnds}\\t{geneName}\\t{count}\\t{uid}\"\n",
    "                            .format(count=x[1][1]['count'],uid=shortuuid.uuid(), **x[1][0]))\n",
    " .saveAsTextFile(outfile))"
   ]
  },
  {
   "cell_type": "code",
   "execution_count": 18,
   "metadata": {
    "collapsed": false
   },
   "outputs": [
    {
     "name": "stdout",
     "output_type": "stream",
     "text": [
      "[(u'NM_001113367', ({'exonEnds': u'55357029,55361470,55362567,55380565,55397444,55403296,55405779,55412583,55417603,55419551', 'geneName': u'Boll', 'chromOffset': 0, 'name': u'NM_001113367', 'txStart': u'55356912', 'exonCount': u'10', 'strand': u'-', 'cdsEnd': u'55397433', 'genomeTxStart': 55356912, 'exonStarts': u'55356912,55361341,55362519,55380493,55397316,55403220,55405724,55412491,55417459,55419325', 'cdsStart': u'55356912', 'chrom': u'chr1', 'genomeTxEnd': 55419551, 'txEnd': u'55419551', 'geneLength': 62639}, {'count': 12}))]\n"
     ]
    }
   ],
   "source": [
    "print refseqid_refgene_count.take(1)"
   ]
  },
  {
   "cell_type": "code",
   "execution_count": 19,
   "metadata": {
    "collapsed": false
   },
   "outputs": [],
   "source": [
    "refseqid_refgene_count_plus = refseqid_refgene_count.filter(lambda x: x[1][0]['strand'] == '+')\n",
    "\n",
    "outfile = get_outfile('refgene-count-plus')\n",
    "(refseqid_refgene_count_plus.map(lambda x: \"{name}\\t{chrom}\\t{strand}\\t{txStart}\\t{txEnd}\\t{genomeTxStart}\\t{genomeTxEnd}\\t{cdsStart}\\t{cdsEnd}\\t{exonCount}\\t{exonStarts}\\t{exonEnds}\\t{geneName}\\t{count}\\t{uid}\"\n",
    "                            .format(count=x[1][1]['count'],uid=shortuuid.uuid(), **x[1][0]))\n",
    " .saveAsTextFile(outfile))"
   ]
  },
  {
   "cell_type": "code",
   "execution_count": 20,
   "metadata": {
    "collapsed": false
   },
   "outputs": [],
   "source": [
    "refseqid_refgene_count_minus = refseqid_refgene_count.filter(lambda x: x[1][0]['strand'] == '-')\n",
    "\n",
    "outfile = get_outfile('refgene-count-minus')\n",
    "(refseqid_refgene_count_minus.map(lambda x: \"{name}\\t{chrom}\\t{strand}\\t{txStart}\\t{txEnd}\\t{genomeTxStart}\\t{genomeTxEnd}\\t{cdsStart}\\t{cdsEnd}\\t{exonCount}\\t{exonStarts}\\t{exonEnds}\\t{geneName}\\t{count}\\t{uid}\"\n",
    "                            .format(count=x[1][1]['count'],uid=shortuuid.uuid(), **x[1][0]))\n",
    " .saveAsTextFile(outfile))"
   ]
  },
  {
   "cell_type": "markdown",
   "metadata": {},
   "source": [
    "## Run the entire pipeline"
   ]
  },
  {
   "cell_type": "code",
   "execution_count": 21,
   "metadata": {
    "collapsed": false
   },
   "outputs": [
    {
     "name": "stdout",
     "output_type": "stream",
     "text": [
      "[((9, 1246500), {'count': 1})]\n",
      "[(u'-', (9, 1246500)), (u'-', (9, 1246501)), (u'-', (9, 1246502)), (u'-', (9, 1246503)), (u'-', (9, 1246504)), (u'-', (9, 1246505)), (u'-', (9, 1246509)), (u'-', (9, 1246510)), (u'-', (9, 3722426)), (u'-', (9, 8655732))]\n",
      "[(u'XM_009054708', (225164, 20243866))]\n",
      "count1: 9519075\n",
      "count2: 7364241\n",
      "[((4577, 103654904), u'XR_566429')]\n",
      "taxid_geneid_count [((956149, 14564489), {'count': 1})]\n",
      "1. taxid_geneid_count.count(): 8516870\n",
      "2. taxid_geneid_count.count(): 8516870\n",
      "[((6279, 6095747), ({'count': 1}, u'XM_001892259'))]\n",
      "[((903510, 11565178), {'count': 1})]\n",
      "[(u'NM_033083', {'exonEnds': u'15469389,15471514,15473730,15476045,15478082,15484120', 'geneName': u'EAF1', 'chromOffset': 492449994, 'name': u'NM_033083', 'txStart': u'15469063', 'exonCount': u'6', 'strand': u'+', 'cdsEnd': u'15480662', 'genomeTxStart': 507919057, 'geneLength': 15057, 'cdsStart': u'15469286', 'chrom': u'chr3', 'genomeTxEnd': 507934114, 'txEnd': u'15484120', 'exonStarts': u'15469063,15471419,15473593,15475854,15477848,15480615'})]\n",
      "[(u'XM_001892259', {'count': 1})]\n",
      "[(u'NM_001466', ({'exonEnds': u'42638630', 'geneName': u'FZD2', 'chromOffset': 2655442424, 'name': u'NM_001466', 'txStart': u'42634811', 'exonCount': u'1', 'strand': u'+', 'cdsEnd': u'42636754', 'genomeTxStart': 2698077235, 'exonStarts': u'42634811', 'cdsStart': u'42635056', 'chrom': u'chr17', 'genomeTxEnd': 2698081054, 'txEnd': u'42638630', 'geneLength': 3819}, {'count': 23}))]\n"
     ]
    }
   ],
   "source": [
    "assembly = 'hg19'\n",
    "output_dir = op.join(data_dir, assembly)    # where all of the intermediate output will be stored\n",
    "base_ucsc_dir = op.join(data_dir, 'ucsc-data/{}'.format(assembly))  # where all of the files downloaded from UCSC will be stored\n",
    "\n",
    "cum_chrom_lengths = get_chrom_lengths(base_ucsc_dir)\n",
    "refGene = load_refgene_data(base_ucsc_dir)\n",
    "taxid_geneid_count = load_gene_counts(op.join(data_dir, 'genbank-data/'))\n",
    "refseqid_taxid_geneid = load_refseq2gene(op.join(data_dir, 'genbank-data'))\n",
    "taxid_geneid_count_refseq = join_counts_and_ids(refseqid_taxid_geneid, taxid_geneid_count)\n",
    "refseqid_refgene_count = join_refgene_and_counts(refGene, taxid_geneid_count_refseq)\n",
    "\n",
    "outfile = get_outfile('refgene-count')\n",
    "(refseqid_refgene_count.map(lambda x: \"{name}\\t{chrom}\\t{strand}\\t{txStart}\\t{txEnd}\\t{genomeTxStart}\\t{genomeTxEnd}\\t{cdsStart}\\t{cdsEnd}\\t{exonCount}\\t{exonStarts}\\t{exonEnds}\\t{geneName}\\t{count}\\t{uid}\"\n",
    "                            .format(count=x[1][1]['count'],uid=shortuuid.uuid(), **x[1][0]))\n",
    " .saveAsTextFile(outfile))"
   ]
  },
  {
   "cell_type": "code",
   "execution_count": 22,
   "metadata": {
    "collapsed": false
   },
   "outputs": [
    {
     "name": "stdout",
     "output_type": "stream",
     "text": [
      "/Users/peter/data/hg19/genbank-output/refgene-count-plus\n",
      "[(u'NM_001466', ({'exonEnds': u'42638630', 'geneName': u'FZD2', 'chromOffset': 2655442424, 'name': u'NM_001466', 'txStart': u'42634811', 'exonCount': u'1', 'strand': u'+', 'cdsEnd': u'42636754', 'genomeTxStart': 2698077235, 'exonStarts': u'42634811', 'cdsStart': u'42635056', 'chrom': u'chr17', 'genomeTxEnd': 2698081054, 'txEnd': u'42638630', 'geneLength': 3819}, {'count': 23}))]\n"
     ]
    }
   ],
   "source": [
    "refseqid_refgene_count_plus = refseqid_refgene_count.filter(lambda x: x[1][0]['strand'] == '+')\n",
    "\n",
    "outfile = get_outfile('refgene-count-plus')\n",
    "print outfile\n",
    "print refseqid_refgene_count_plus.take(1)\n",
    "(refseqid_refgene_count_plus.map(lambda x: \"{name}\\t{chrom}\\t{strand}\\t{txStart}\\t{txEnd}\\t{genomeTxStart}\\t{genomeTxEnd}\\t{cdsStart}\\t{cdsEnd}\\t{exonCount}\\t{exonStarts}\\t{exonEnds}\\t{geneName}\\t{count}\\t{uid}\"\n",
    "                            .format(count=x[1][1]['count'],uid=shortuuid.uuid(), **x[1][0]))\n",
    " .saveAsTextFile(outfile))"
   ]
  },
  {
   "cell_type": "code",
   "execution_count": 23,
   "metadata": {
    "collapsed": false
   },
   "outputs": [
    {
     "name": "stdout",
     "output_type": "stream",
     "text": [
      "/Users/peter/data/hg19/genbank-output/refgene-count-minus\n",
      "[(u'NR_031592', ({'exonEnds': u'10514214', 'geneName': u'MIR1181', 'chromOffset': 2937113968, 'name': u'NR_031592', 'txStart': u'10514133', 'exonCount': u'1', 'strand': u'-', 'cdsEnd': u'10514214', 'genomeTxStart': 2947628101, 'exonStarts': u'10514133', 'cdsStart': u'10514214', 'chrom': u'chr19', 'genomeTxEnd': 2947628182, 'txEnd': u'10514214', 'geneLength': 81}, {'count': 3}))]\n"
     ]
    }
   ],
   "source": [
    "refseqid_refgene_count_plus = refseqid_refgene_count.filter(lambda x: x[1][0]['strand'] == '-')\n",
    "\n",
    "outfile = get_outfile('refgene-count-minus')\n",
    "print outfile\n",
    "print refseqid_refgene_count_plus.take(1)\n",
    "(refseqid_refgene_count_plus.map(lambda x: \"{name}\\t{chrom}\\t{strand}\\t{txStart}\\t{txEnd}\\t{genomeTxStart}\\t{genomeTxEnd}\\t{cdsStart}\\t{cdsEnd}\\t{exonCount}\\t{exonStarts}\\t{exonEnds}\\t{geneName}\\t{count}\\t{uid}\"\n",
    "                            .format(count=x[1][1]['count'],uid=shortuuid.uuid(), **x[1][0]))\n",
    " .saveAsTextFile(outfile))"
   ]
  },
  {
   "cell_type": "code",
   "execution_count": null,
   "metadata": {
    "collapsed": true
   },
   "outputs": [],
   "source": []
  },
  {
   "cell_type": "code",
   "execution_count": null,
   "metadata": {
    "collapsed": true
   },
   "outputs": [],
   "source": []
  }
 ],
 "metadata": {
  "kernelspec": {
   "display_name": "Python 2",
   "language": "python",
   "name": "python2"
  },
  "language_info": {
   "codemirror_mode": {
    "name": "ipython",
    "version": 2
   },
   "file_extension": ".py",
   "mimetype": "text/x-python",
   "name": "python",
   "nbconvert_exporter": "python",
   "pygments_lexer": "ipython2",
   "version": "2.7.11"
  }
 },
 "nbformat": 4,
 "nbformat_minor": 0
}
